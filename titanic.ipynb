{
 "cells": [
  {
   "cell_type": "code",
   "execution_count": 1,
   "id": "654ce141",
   "metadata": {
    "_cell_guid": "b1076dfc-b9ad-4769-8c92-a6c4dae69d19",
    "_uuid": "8f2839f25d086af736a60e9eeb907d3b93b6e0e5",
    "execution": {
     "iopub.execute_input": "2023-05-28T09:29:53.321931Z",
     "iopub.status.busy": "2023-05-28T09:29:53.321278Z",
     "iopub.status.idle": "2023-05-28T09:29:53.336544Z",
     "shell.execute_reply": "2023-05-28T09:29:53.335690Z"
    },
    "papermill": {
     "duration": 0.026621,
     "end_time": "2023-05-28T09:29:53.338784",
     "exception": false,
     "start_time": "2023-05-28T09:29:53.312163",
     "status": "completed"
    },
    "tags": []
   },
   "outputs": [
    {
     "name": "stdout",
     "output_type": "stream",
     "text": [
      "/kaggle/input/titanic/train.csv\n",
      "/kaggle/input/titanic/test.csv\n",
      "/kaggle/input/titanic/gender_submission.csv\n"
     ]
    }
   ],
   "source": [
    "# This Python 3 environment comes with many helpful analytics libraries installed\n",
    "# It is defined by the kaggle/python Docker image: https://github.com/kaggle/docker-python\n",
    "# For example, here's several helpful packages to load\n",
    "\n",
    "import numpy as np # linear algebra\n",
    "import pandas as pd # data processing, CSV file I/O (e.g. pd.read_csv)\n",
    "\n",
    "# Input data files are available in the read-only \"../input/\" directory\n",
    "# For example, running this (by clicking run or pressing Shift+Enter) will list all files under the input directory\n",
    "\n",
    "import os\n",
    "for dirname, _, filenames in os.walk('/kaggle/input'):\n",
    "    for filename in filenames:\n",
    "        print(os.path.join(dirname, filename))\n",
    "\n",
    "# You can write up to 20GB to the current directory (/kaggle/working/) that gets preserved as output when you create a version using \"Save & Run All\" \n",
    "# You can also write temporary files to /kaggle/temp/, but they won't be saved outside of the current session"
   ]
  },
  {
   "cell_type": "code",
   "execution_count": 2,
   "id": "2bfec05d",
   "metadata": {
    "execution": {
     "iopub.execute_input": "2023-05-28T09:29:53.355341Z",
     "iopub.status.busy": "2023-05-28T09:29:53.354162Z",
     "iopub.status.idle": "2023-05-28T09:29:53.394560Z",
     "shell.execute_reply": "2023-05-28T09:29:53.393732Z"
    },
    "papermill": {
     "duration": 0.050259,
     "end_time": "2023-05-28T09:29:53.396595",
     "exception": false,
     "start_time": "2023-05-28T09:29:53.346336",
     "status": "completed"
    },
    "tags": []
   },
   "outputs": [],
   "source": [
    "data = pd.read_csv(\"/kaggle/input/titanic/gender_submission.csv\")\n",
    "train_data = pd.read_csv(\"/kaggle/input/titanic/train.csv\")\n",
    "pred_data = pd.read_csv(\"/kaggle/input/titanic/test.csv\")"
   ]
  },
  {
   "cell_type": "code",
   "execution_count": 3,
   "id": "eb4bfb03",
   "metadata": {
    "execution": {
     "iopub.execute_input": "2023-05-28T09:29:53.411974Z",
     "iopub.status.busy": "2023-05-28T09:29:53.411705Z",
     "iopub.status.idle": "2023-05-28T09:29:53.435906Z",
     "shell.execute_reply": "2023-05-28T09:29:53.434774Z"
    },
    "papermill": {
     "duration": 0.035064,
     "end_time": "2023-05-28T09:29:53.438817",
     "exception": false,
     "start_time": "2023-05-28T09:29:53.403753",
     "status": "completed"
    },
    "tags": []
   },
   "outputs": [
    {
     "data": {
      "text/html": [
       "<div>\n",
       "<style scoped>\n",
       "    .dataframe tbody tr th:only-of-type {\n",
       "        vertical-align: middle;\n",
       "    }\n",
       "\n",
       "    .dataframe tbody tr th {\n",
       "        vertical-align: top;\n",
       "    }\n",
       "\n",
       "    .dataframe thead th {\n",
       "        text-align: right;\n",
       "    }\n",
       "</style>\n",
       "<table border=\"1\" class=\"dataframe\">\n",
       "  <thead>\n",
       "    <tr style=\"text-align: right;\">\n",
       "      <th></th>\n",
       "      <th>PassengerId</th>\n",
       "      <th>Survived</th>\n",
       "      <th>Pclass</th>\n",
       "      <th>Name</th>\n",
       "      <th>Sex</th>\n",
       "      <th>Age</th>\n",
       "      <th>SibSp</th>\n",
       "      <th>Parch</th>\n",
       "      <th>Ticket</th>\n",
       "      <th>Fare</th>\n",
       "      <th>Cabin</th>\n",
       "      <th>Embarked</th>\n",
       "    </tr>\n",
       "  </thead>\n",
       "  <tbody>\n",
       "    <tr>\n",
       "      <th>0</th>\n",
       "      <td>1</td>\n",
       "      <td>0</td>\n",
       "      <td>3</td>\n",
       "      <td>Braund, Mr. Owen Harris</td>\n",
       "      <td>male</td>\n",
       "      <td>22.0</td>\n",
       "      <td>1</td>\n",
       "      <td>0</td>\n",
       "      <td>A/5 21171</td>\n",
       "      <td>7.2500</td>\n",
       "      <td>NaN</td>\n",
       "      <td>S</td>\n",
       "    </tr>\n",
       "    <tr>\n",
       "      <th>1</th>\n",
       "      <td>2</td>\n",
       "      <td>1</td>\n",
       "      <td>1</td>\n",
       "      <td>Cumings, Mrs. John Bradley (Florence Briggs Th...</td>\n",
       "      <td>female</td>\n",
       "      <td>38.0</td>\n",
       "      <td>1</td>\n",
       "      <td>0</td>\n",
       "      <td>PC 17599</td>\n",
       "      <td>71.2833</td>\n",
       "      <td>C85</td>\n",
       "      <td>C</td>\n",
       "    </tr>\n",
       "    <tr>\n",
       "      <th>2</th>\n",
       "      <td>3</td>\n",
       "      <td>1</td>\n",
       "      <td>3</td>\n",
       "      <td>Heikkinen, Miss. Laina</td>\n",
       "      <td>female</td>\n",
       "      <td>26.0</td>\n",
       "      <td>0</td>\n",
       "      <td>0</td>\n",
       "      <td>STON/O2. 3101282</td>\n",
       "      <td>7.9250</td>\n",
       "      <td>NaN</td>\n",
       "      <td>S</td>\n",
       "    </tr>\n",
       "    <tr>\n",
       "      <th>3</th>\n",
       "      <td>4</td>\n",
       "      <td>1</td>\n",
       "      <td>1</td>\n",
       "      <td>Futrelle, Mrs. Jacques Heath (Lily May Peel)</td>\n",
       "      <td>female</td>\n",
       "      <td>35.0</td>\n",
       "      <td>1</td>\n",
       "      <td>0</td>\n",
       "      <td>113803</td>\n",
       "      <td>53.1000</td>\n",
       "      <td>C123</td>\n",
       "      <td>S</td>\n",
       "    </tr>\n",
       "    <tr>\n",
       "      <th>4</th>\n",
       "      <td>5</td>\n",
       "      <td>0</td>\n",
       "      <td>3</td>\n",
       "      <td>Allen, Mr. William Henry</td>\n",
       "      <td>male</td>\n",
       "      <td>35.0</td>\n",
       "      <td>0</td>\n",
       "      <td>0</td>\n",
       "      <td>373450</td>\n",
       "      <td>8.0500</td>\n",
       "      <td>NaN</td>\n",
       "      <td>S</td>\n",
       "    </tr>\n",
       "  </tbody>\n",
       "</table>\n",
       "</div>"
      ],
      "text/plain": [
       "   PassengerId  Survived  Pclass  \\\n",
       "0            1         0       3   \n",
       "1            2         1       1   \n",
       "2            3         1       3   \n",
       "3            4         1       1   \n",
       "4            5         0       3   \n",
       "\n",
       "                                                Name     Sex   Age  SibSp  \\\n",
       "0                            Braund, Mr. Owen Harris    male  22.0      1   \n",
       "1  Cumings, Mrs. John Bradley (Florence Briggs Th...  female  38.0      1   \n",
       "2                             Heikkinen, Miss. Laina  female  26.0      0   \n",
       "3       Futrelle, Mrs. Jacques Heath (Lily May Peel)  female  35.0      1   \n",
       "4                           Allen, Mr. William Henry    male  35.0      0   \n",
       "\n",
       "   Parch            Ticket     Fare Cabin Embarked  \n",
       "0      0         A/5 21171   7.2500   NaN        S  \n",
       "1      0          PC 17599  71.2833   C85        C  \n",
       "2      0  STON/O2. 3101282   7.9250   NaN        S  \n",
       "3      0            113803  53.1000  C123        S  \n",
       "4      0            373450   8.0500   NaN        S  "
      ]
     },
     "execution_count": 3,
     "metadata": {},
     "output_type": "execute_result"
    }
   ],
   "source": [
    "train_data.head()"
   ]
  },
  {
   "cell_type": "code",
   "execution_count": 4,
   "id": "83e39c63",
   "metadata": {
    "execution": {
     "iopub.execute_input": "2023-05-28T09:29:53.457018Z",
     "iopub.status.busy": "2023-05-28T09:29:53.456749Z",
     "iopub.status.idle": "2023-05-28T09:29:53.472140Z",
     "shell.execute_reply": "2023-05-28T09:29:53.471117Z"
    },
    "papermill": {
     "duration": 0.027219,
     "end_time": "2023-05-28T09:29:53.474504",
     "exception": false,
     "start_time": "2023-05-28T09:29:53.447285",
     "status": "completed"
    },
    "tags": []
   },
   "outputs": [
    {
     "data": {
      "text/html": [
       "<div>\n",
       "<style scoped>\n",
       "    .dataframe tbody tr th:only-of-type {\n",
       "        vertical-align: middle;\n",
       "    }\n",
       "\n",
       "    .dataframe tbody tr th {\n",
       "        vertical-align: top;\n",
       "    }\n",
       "\n",
       "    .dataframe thead th {\n",
       "        text-align: right;\n",
       "    }\n",
       "</style>\n",
       "<table border=\"1\" class=\"dataframe\">\n",
       "  <thead>\n",
       "    <tr style=\"text-align: right;\">\n",
       "      <th></th>\n",
       "      <th>PassengerId</th>\n",
       "      <th>Pclass</th>\n",
       "      <th>Name</th>\n",
       "      <th>Sex</th>\n",
       "      <th>Age</th>\n",
       "      <th>SibSp</th>\n",
       "      <th>Parch</th>\n",
       "      <th>Ticket</th>\n",
       "      <th>Fare</th>\n",
       "      <th>Cabin</th>\n",
       "      <th>Embarked</th>\n",
       "    </tr>\n",
       "  </thead>\n",
       "  <tbody>\n",
       "    <tr>\n",
       "      <th>0</th>\n",
       "      <td>892</td>\n",
       "      <td>3</td>\n",
       "      <td>Kelly, Mr. James</td>\n",
       "      <td>male</td>\n",
       "      <td>34.5</td>\n",
       "      <td>0</td>\n",
       "      <td>0</td>\n",
       "      <td>330911</td>\n",
       "      <td>7.8292</td>\n",
       "      <td>NaN</td>\n",
       "      <td>Q</td>\n",
       "    </tr>\n",
       "    <tr>\n",
       "      <th>1</th>\n",
       "      <td>893</td>\n",
       "      <td>3</td>\n",
       "      <td>Wilkes, Mrs. James (Ellen Needs)</td>\n",
       "      <td>female</td>\n",
       "      <td>47.0</td>\n",
       "      <td>1</td>\n",
       "      <td>0</td>\n",
       "      <td>363272</td>\n",
       "      <td>7.0000</td>\n",
       "      <td>NaN</td>\n",
       "      <td>S</td>\n",
       "    </tr>\n",
       "    <tr>\n",
       "      <th>2</th>\n",
       "      <td>894</td>\n",
       "      <td>2</td>\n",
       "      <td>Myles, Mr. Thomas Francis</td>\n",
       "      <td>male</td>\n",
       "      <td>62.0</td>\n",
       "      <td>0</td>\n",
       "      <td>0</td>\n",
       "      <td>240276</td>\n",
       "      <td>9.6875</td>\n",
       "      <td>NaN</td>\n",
       "      <td>Q</td>\n",
       "    </tr>\n",
       "    <tr>\n",
       "      <th>3</th>\n",
       "      <td>895</td>\n",
       "      <td>3</td>\n",
       "      <td>Wirz, Mr. Albert</td>\n",
       "      <td>male</td>\n",
       "      <td>27.0</td>\n",
       "      <td>0</td>\n",
       "      <td>0</td>\n",
       "      <td>315154</td>\n",
       "      <td>8.6625</td>\n",
       "      <td>NaN</td>\n",
       "      <td>S</td>\n",
       "    </tr>\n",
       "    <tr>\n",
       "      <th>4</th>\n",
       "      <td>896</td>\n",
       "      <td>3</td>\n",
       "      <td>Hirvonen, Mrs. Alexander (Helga E Lindqvist)</td>\n",
       "      <td>female</td>\n",
       "      <td>22.0</td>\n",
       "      <td>1</td>\n",
       "      <td>1</td>\n",
       "      <td>3101298</td>\n",
       "      <td>12.2875</td>\n",
       "      <td>NaN</td>\n",
       "      <td>S</td>\n",
       "    </tr>\n",
       "  </tbody>\n",
       "</table>\n",
       "</div>"
      ],
      "text/plain": [
       "   PassengerId  Pclass                                          Name     Sex  \\\n",
       "0          892       3                              Kelly, Mr. James    male   \n",
       "1          893       3              Wilkes, Mrs. James (Ellen Needs)  female   \n",
       "2          894       2                     Myles, Mr. Thomas Francis    male   \n",
       "3          895       3                              Wirz, Mr. Albert    male   \n",
       "4          896       3  Hirvonen, Mrs. Alexander (Helga E Lindqvist)  female   \n",
       "\n",
       "    Age  SibSp  Parch   Ticket     Fare Cabin Embarked  \n",
       "0  34.5      0      0   330911   7.8292   NaN        Q  \n",
       "1  47.0      1      0   363272   7.0000   NaN        S  \n",
       "2  62.0      0      0   240276   9.6875   NaN        Q  \n",
       "3  27.0      0      0   315154   8.6625   NaN        S  \n",
       "4  22.0      1      1  3101298  12.2875   NaN        S  "
      ]
     },
     "execution_count": 4,
     "metadata": {},
     "output_type": "execute_result"
    }
   ],
   "source": [
    "pred_data.head()"
   ]
  },
  {
   "cell_type": "code",
   "execution_count": 5,
   "id": "2aa05353",
   "metadata": {
    "execution": {
     "iopub.execute_input": "2023-05-28T09:29:53.492221Z",
     "iopub.status.busy": "2023-05-28T09:29:53.491939Z",
     "iopub.status.idle": "2023-05-28T09:29:53.509893Z",
     "shell.execute_reply": "2023-05-28T09:29:53.508072Z"
    },
    "papermill": {
     "duration": 0.028768,
     "end_time": "2023-05-28T09:29:53.512104",
     "exception": false,
     "start_time": "2023-05-28T09:29:53.483336",
     "status": "completed"
    },
    "tags": []
   },
   "outputs": [
    {
     "name": "stderr",
     "output_type": "stream",
     "text": [
      "/tmp/ipykernel_23/3116066650.py:7: SettingWithCopyWarning: \n",
      "A value is trying to be set on a copy of a slice from a DataFrame.\n",
      "Try using .loc[row_indexer,col_indexer] = value instead\n",
      "\n",
      "See the caveats in the documentation: https://pandas.pydata.org/pandas-docs/stable/user_guide/indexing.html#returning-a-view-versus-a-copy\n",
      "  train_feature['Sex'] = train_feature['Sex'].replace(['male','female'],[0,1])\n",
      "/tmp/ipykernel_23/3116066650.py:8: SettingWithCopyWarning: \n",
      "A value is trying to be set on a copy of a slice from a DataFrame.\n",
      "Try using .loc[row_indexer,col_indexer] = value instead\n",
      "\n",
      "See the caveats in the documentation: https://pandas.pydata.org/pandas-docs/stable/user_guide/indexing.html#returning-a-view-versus-a-copy\n",
      "  pred_feature['Sex'] = pred_feature['Sex'].replace(['male','female'],[0,1])\n",
      "/tmp/ipykernel_23/3116066650.py:11: SettingWithCopyWarning: \n",
      "A value is trying to be set on a copy of a slice from a DataFrame\n",
      "\n",
      "See the caveats in the documentation: https://pandas.pydata.org/pandas-docs/stable/user_guide/indexing.html#returning-a-view-versus-a-copy\n",
      "  train_feature['Age'].fillna(value=train_feature['Age'].mean(),inplace=True)\n",
      "/tmp/ipykernel_23/3116066650.py:12: SettingWithCopyWarning: \n",
      "A value is trying to be set on a copy of a slice from a DataFrame\n",
      "\n",
      "See the caveats in the documentation: https://pandas.pydata.org/pandas-docs/stable/user_guide/indexing.html#returning-a-view-versus-a-copy\n",
      "  pred_feature['Age'].fillna(value=train_feature['Age'].mean(),inplace=True)\n"
     ]
    }
   ],
   "source": [
    "train_feature = train_data[['Sex','Age']]\n",
    "train_value = train_data[\"Survived\"]\n",
    "\n",
    "pred_feature = pred_data[['Sex','Age']]\n",
    "\n",
    "# One hot encoding Sex\n",
    "train_feature['Sex'] = train_feature['Sex'].replace(['male','female'],[0,1])\n",
    "pred_feature['Sex'] = pred_feature['Sex'].replace(['male','female'],[0,1])\n",
    "\n",
    "# handle missing values\n",
    "train_feature['Age'].fillna(value=train_feature['Age'].mean(),inplace=True)\n",
    "pred_feature['Age'].fillna(value=train_feature['Age'].mean(),inplace=True)"
   ]
  },
  {
   "cell_type": "code",
   "execution_count": 6,
   "id": "38db5726",
   "metadata": {
    "execution": {
     "iopub.execute_input": "2023-05-28T09:29:53.530481Z",
     "iopub.status.busy": "2023-05-28T09:29:53.529694Z",
     "iopub.status.idle": "2023-05-28T09:29:53.538879Z",
     "shell.execute_reply": "2023-05-28T09:29:53.537900Z"
    },
    "papermill": {
     "duration": 0.020016,
     "end_time": "2023-05-28T09:29:53.540976",
     "exception": false,
     "start_time": "2023-05-28T09:29:53.520960",
     "status": "completed"
    },
    "tags": []
   },
   "outputs": [
    {
     "data": {
      "text/html": [
       "<div>\n",
       "<style scoped>\n",
       "    .dataframe tbody tr th:only-of-type {\n",
       "        vertical-align: middle;\n",
       "    }\n",
       "\n",
       "    .dataframe tbody tr th {\n",
       "        vertical-align: top;\n",
       "    }\n",
       "\n",
       "    .dataframe thead th {\n",
       "        text-align: right;\n",
       "    }\n",
       "</style>\n",
       "<table border=\"1\" class=\"dataframe\">\n",
       "  <thead>\n",
       "    <tr style=\"text-align: right;\">\n",
       "      <th></th>\n",
       "      <th>Sex</th>\n",
       "      <th>Age</th>\n",
       "    </tr>\n",
       "  </thead>\n",
       "  <tbody>\n",
       "    <tr>\n",
       "      <th>0</th>\n",
       "      <td>0</td>\n",
       "      <td>34.5</td>\n",
       "    </tr>\n",
       "    <tr>\n",
       "      <th>1</th>\n",
       "      <td>1</td>\n",
       "      <td>47.0</td>\n",
       "    </tr>\n",
       "    <tr>\n",
       "      <th>2</th>\n",
       "      <td>0</td>\n",
       "      <td>62.0</td>\n",
       "    </tr>\n",
       "    <tr>\n",
       "      <th>3</th>\n",
       "      <td>0</td>\n",
       "      <td>27.0</td>\n",
       "    </tr>\n",
       "    <tr>\n",
       "      <th>4</th>\n",
       "      <td>1</td>\n",
       "      <td>22.0</td>\n",
       "    </tr>\n",
       "  </tbody>\n",
       "</table>\n",
       "</div>"
      ],
      "text/plain": [
       "   Sex   Age\n",
       "0    0  34.5\n",
       "1    1  47.0\n",
       "2    0  62.0\n",
       "3    0  27.0\n",
       "4    1  22.0"
      ]
     },
     "execution_count": 6,
     "metadata": {},
     "output_type": "execute_result"
    }
   ],
   "source": [
    "pred_feature.head()"
   ]
  },
  {
   "cell_type": "code",
   "execution_count": 7,
   "id": "74fcb182",
   "metadata": {
    "execution": {
     "iopub.execute_input": "2023-05-28T09:29:53.559259Z",
     "iopub.status.busy": "2023-05-28T09:29:53.558438Z",
     "iopub.status.idle": "2023-05-28T09:29:55.956785Z",
     "shell.execute_reply": "2023-05-28T09:29:55.955813Z"
    },
    "papermill": {
     "duration": 2.409518,
     "end_time": "2023-05-28T09:29:55.958967",
     "exception": false,
     "start_time": "2023-05-28T09:29:53.549449",
     "status": "completed"
    },
    "tags": []
   },
   "outputs": [
    {
     "data": {
      "text/html": [
       "<style>#sk-container-id-1 {color: black;background-color: white;}#sk-container-id-1 pre{padding: 0;}#sk-container-id-1 div.sk-toggleable {background-color: white;}#sk-container-id-1 label.sk-toggleable__label {cursor: pointer;display: block;width: 100%;margin-bottom: 0;padding: 0.3em;box-sizing: border-box;text-align: center;}#sk-container-id-1 label.sk-toggleable__label-arrow:before {content: \"▸\";float: left;margin-right: 0.25em;color: #696969;}#sk-container-id-1 label.sk-toggleable__label-arrow:hover:before {color: black;}#sk-container-id-1 div.sk-estimator:hover label.sk-toggleable__label-arrow:before {color: black;}#sk-container-id-1 div.sk-toggleable__content {max-height: 0;max-width: 0;overflow: hidden;text-align: left;background-color: #f0f8ff;}#sk-container-id-1 div.sk-toggleable__content pre {margin: 0.2em;color: black;border-radius: 0.25em;background-color: #f0f8ff;}#sk-container-id-1 input.sk-toggleable__control:checked~div.sk-toggleable__content {max-height: 200px;max-width: 100%;overflow: auto;}#sk-container-id-1 input.sk-toggleable__control:checked~label.sk-toggleable__label-arrow:before {content: \"▾\";}#sk-container-id-1 div.sk-estimator input.sk-toggleable__control:checked~label.sk-toggleable__label {background-color: #d4ebff;}#sk-container-id-1 div.sk-label input.sk-toggleable__control:checked~label.sk-toggleable__label {background-color: #d4ebff;}#sk-container-id-1 input.sk-hidden--visually {border: 0;clip: rect(1px 1px 1px 1px);clip: rect(1px, 1px, 1px, 1px);height: 1px;margin: -1px;overflow: hidden;padding: 0;position: absolute;width: 1px;}#sk-container-id-1 div.sk-estimator {font-family: monospace;background-color: #f0f8ff;border: 1px dotted black;border-radius: 0.25em;box-sizing: border-box;margin-bottom: 0.5em;}#sk-container-id-1 div.sk-estimator:hover {background-color: #d4ebff;}#sk-container-id-1 div.sk-parallel-item::after {content: \"\";width: 100%;border-bottom: 1px solid gray;flex-grow: 1;}#sk-container-id-1 div.sk-label:hover label.sk-toggleable__label {background-color: #d4ebff;}#sk-container-id-1 div.sk-serial::before {content: \"\";position: absolute;border-left: 1px solid gray;box-sizing: border-box;top: 0;bottom: 0;left: 50%;z-index: 0;}#sk-container-id-1 div.sk-serial {display: flex;flex-direction: column;align-items: center;background-color: white;padding-right: 0.2em;padding-left: 0.2em;position: relative;}#sk-container-id-1 div.sk-item {position: relative;z-index: 1;}#sk-container-id-1 div.sk-parallel {display: flex;align-items: stretch;justify-content: center;background-color: white;position: relative;}#sk-container-id-1 div.sk-item::before, #sk-container-id-1 div.sk-parallel-item::before {content: \"\";position: absolute;border-left: 1px solid gray;box-sizing: border-box;top: 0;bottom: 0;left: 50%;z-index: -1;}#sk-container-id-1 div.sk-parallel-item {display: flex;flex-direction: column;z-index: 1;position: relative;background-color: white;}#sk-container-id-1 div.sk-parallel-item:first-child::after {align-self: flex-end;width: 50%;}#sk-container-id-1 div.sk-parallel-item:last-child::after {align-self: flex-start;width: 50%;}#sk-container-id-1 div.sk-parallel-item:only-child::after {width: 0;}#sk-container-id-1 div.sk-dashed-wrapped {border: 1px dashed gray;margin: 0 0.4em 0.5em 0.4em;box-sizing: border-box;padding-bottom: 0.4em;background-color: white;}#sk-container-id-1 div.sk-label label {font-family: monospace;font-weight: bold;display: inline-block;line-height: 1.2em;}#sk-container-id-1 div.sk-label-container {text-align: center;}#sk-container-id-1 div.sk-container {/* jupyter's `normalize.less` sets `[hidden] { display: none; }` but bootstrap.min.css set `[hidden] { display: none !important; }` so we also need the `!important` here to be able to override the default hidden behavior on the sphinx rendered scikit-learn.org. See: https://github.com/scikit-learn/scikit-learn/issues/21755 */display: inline-block !important;position: relative;}#sk-container-id-1 div.sk-text-repr-fallback {display: none;}</style><div id=\"sk-container-id-1\" class=\"sk-top-container\"><div class=\"sk-text-repr-fallback\"><pre>LogisticRegression()</pre><b>In a Jupyter environment, please rerun this cell to show the HTML representation or trust the notebook. <br />On GitHub, the HTML representation is unable to render, please try loading this page with nbviewer.org.</b></div><div class=\"sk-container\" hidden><div class=\"sk-item\"><div class=\"sk-estimator sk-toggleable\"><input class=\"sk-toggleable__control sk-hidden--visually\" id=\"sk-estimator-id-1\" type=\"checkbox\" checked><label for=\"sk-estimator-id-1\" class=\"sk-toggleable__label sk-toggleable__label-arrow\">LogisticRegression</label><div class=\"sk-toggleable__content\"><pre>LogisticRegression()</pre></div></div></div></div></div>"
      ],
      "text/plain": [
       "LogisticRegression()"
      ]
     },
     "execution_count": 7,
     "metadata": {},
     "output_type": "execute_result"
    }
   ],
   "source": [
    "# Logistic Regression\n",
    "from sklearn.linear_model import LogisticRegression\n",
    "\n",
    "lrModel=LogisticRegression()\n",
    "lrModel.fit(train_feature,train_value)"
   ]
  },
  {
   "cell_type": "code",
   "execution_count": 8,
   "id": "709721b8",
   "metadata": {
    "execution": {
     "iopub.execute_input": "2023-05-28T09:29:55.980008Z",
     "iopub.status.busy": "2023-05-28T09:29:55.979032Z",
     "iopub.status.idle": "2023-05-28T09:29:55.986072Z",
     "shell.execute_reply": "2023-05-28T09:29:55.985186Z"
    },
    "papermill": {
     "duration": 0.019749,
     "end_time": "2023-05-28T09:29:55.988259",
     "exception": false,
     "start_time": "2023-05-28T09:29:55.968510",
     "status": "completed"
    },
    "tags": []
   },
   "outputs": [],
   "source": [
    "pred_value = lrModel.predict(pred_feature)"
   ]
  },
  {
   "cell_type": "code",
   "execution_count": 9,
   "id": "fbfe2181",
   "metadata": {
    "execution": {
     "iopub.execute_input": "2023-05-28T09:29:56.008171Z",
     "iopub.status.busy": "2023-05-28T09:29:56.007354Z",
     "iopub.status.idle": "2023-05-28T09:29:56.017804Z",
     "shell.execute_reply": "2023-05-28T09:29:56.016786Z"
    },
    "papermill": {
     "duration": 0.022769,
     "end_time": "2023-05-28T09:29:56.020132",
     "exception": false,
     "start_time": "2023-05-28T09:29:55.997363",
     "status": "completed"
    },
    "tags": []
   },
   "outputs": [
    {
     "data": {
      "text/html": [
       "<div>\n",
       "<style scoped>\n",
       "    .dataframe tbody tr th:only-of-type {\n",
       "        vertical-align: middle;\n",
       "    }\n",
       "\n",
       "    .dataframe tbody tr th {\n",
       "        vertical-align: top;\n",
       "    }\n",
       "\n",
       "    .dataframe thead th {\n",
       "        text-align: right;\n",
       "    }\n",
       "</style>\n",
       "<table border=\"1\" class=\"dataframe\">\n",
       "  <thead>\n",
       "    <tr style=\"text-align: right;\">\n",
       "      <th></th>\n",
       "      <th>PassengerId</th>\n",
       "      <th>Survived</th>\n",
       "    </tr>\n",
       "  </thead>\n",
       "  <tbody>\n",
       "    <tr>\n",
       "      <th>0</th>\n",
       "      <td>892</td>\n",
       "      <td>0</td>\n",
       "    </tr>\n",
       "    <tr>\n",
       "      <th>1</th>\n",
       "      <td>893</td>\n",
       "      <td>1</td>\n",
       "    </tr>\n",
       "    <tr>\n",
       "      <th>2</th>\n",
       "      <td>894</td>\n",
       "      <td>0</td>\n",
       "    </tr>\n",
       "    <tr>\n",
       "      <th>3</th>\n",
       "      <td>895</td>\n",
       "      <td>0</td>\n",
       "    </tr>\n",
       "    <tr>\n",
       "      <th>4</th>\n",
       "      <td>896</td>\n",
       "      <td>1</td>\n",
       "    </tr>\n",
       "  </tbody>\n",
       "</table>\n",
       "</div>"
      ],
      "text/plain": [
       "   PassengerId  Survived\n",
       "0          892         0\n",
       "1          893         1\n",
       "2          894         0\n",
       "3          895         0\n",
       "4          896         1"
      ]
     },
     "execution_count": 9,
     "metadata": {},
     "output_type": "execute_result"
    }
   ],
   "source": [
    "output = pd.DataFrame({'PassengerId': pred_data['PassengerId'], 'Survived': pred_value})\n",
    "output.head()"
   ]
  },
  {
   "cell_type": "code",
   "execution_count": 10,
   "id": "02285900",
   "metadata": {
    "execution": {
     "iopub.execute_input": "2023-05-28T09:29:56.042616Z",
     "iopub.status.busy": "2023-05-28T09:29:56.041768Z",
     "iopub.status.idle": "2023-05-28T09:29:56.049827Z",
     "shell.execute_reply": "2023-05-28T09:29:56.048968Z"
    },
    "papermill": {
     "duration": 0.021423,
     "end_time": "2023-05-28T09:29:56.051920",
     "exception": false,
     "start_time": "2023-05-28T09:29:56.030497",
     "status": "completed"
    },
    "tags": []
   },
   "outputs": [],
   "source": [
    "output.to_csv('submission.csv', index=False)"
   ]
  },
  {
   "cell_type": "markdown",
   "id": "59ca901f",
   "metadata": {
    "papermill": {
     "duration": 0.009084,
     "end_time": "2023-05-28T09:29:56.070282",
     "exception": false,
     "start_time": "2023-05-28T09:29:56.061198",
     "status": "completed"
    },
    "tags": []
   },
   "source": [
    "Saving the model"
   ]
  },
  {
   "cell_type": "code",
   "execution_count": 11,
   "id": "51e86290",
   "metadata": {
    "execution": {
     "iopub.execute_input": "2023-05-28T09:29:56.090324Z",
     "iopub.status.busy": "2023-05-28T09:29:56.089956Z",
     "iopub.status.idle": "2023-05-28T09:29:56.102274Z",
     "shell.execute_reply": "2023-05-28T09:29:56.101107Z"
    },
    "papermill": {
     "duration": 0.024494,
     "end_time": "2023-05-28T09:29:56.104300",
     "exception": false,
     "start_time": "2023-05-28T09:29:56.079806",
     "status": "completed"
    },
    "tags": []
   },
   "outputs": [
    {
     "name": "stdout",
     "output_type": "stream",
     "text": [
      "[0 1 0 0 1 0 1 0 1 0 0 0 1 0 1 1 0 0 1 1 0 0 1 0 1 0 1 0 0 0 0 0 1 1 0 0 1\n",
      " 1 0 0 0 0 0 1 1 0 0 0 1 1 0 0 1 1 0 0 0 0 0 1 0 0 0 1 0 1 1 0 0 1 1 0 1 0\n",
      " 1 0 0 1 0 1 0 0 0 0 0 0 1 1 1 0 1 0 1 0 0 0 1 0 1 0 1 0 0 0 1 0 0 0 0 0 0\n",
      " 1 1 1 1 0 0 1 0 1 1 0 1 0 0 1 0 1 0 0 0 0 1 0 0 0 0 0 1 0 1 1 0 0 0 0 0 0\n",
      " 0 0 1 0 0 1 0 0 1 1 0 1 1 0 1 0 0 1 0 0 1 1 0 0 0 0 0 1 1 0 1 1 0 0 1 0 1\n",
      " 0 1 0 1 0 0 0 0 0 0 0 0 1 0 1 1 0 0 1 0 0 1 0 1 0 0 0 0 1 1 0 1 0 1 0 1 0\n",
      " 1 0 1 1 0 1 0 0 0 1 0 0 0 0 0 0 1 1 1 1 0 0 0 0 1 0 1 1 1 0 0 0 0 0 0 0 1\n",
      " 0 0 0 1 1 0 0 0 0 1 0 0 0 1 1 0 1 0 0 0 0 1 0 1 1 1 0 0 0 0 0 0 1 0 0 0 0\n",
      " 1 0 0 0 0 0 0 0 1 1 0 0 0 1 0 0 0 1 1 1 0 0 0 0 0 0 0 0 1 0 1 0 0 0 1 0 0\n",
      " 1 0 0 0 0 0 0 0 0 0 1 0 1 0 1 0 1 1 0 0 0 1 0 1 0 0 1 0 1 1 0 1 1 0 1 1 0\n",
      " 0 1 0 0 1 1 1 0 0 0 0 0 1 1 0 1 0 0 0 0 0 1 0 0 0 1 0 1 0 0 1 0 1 0 0 0 0\n",
      " 0 1 1 1 1 1 0 1 0 0 0]\n"
     ]
    }
   ],
   "source": [
    "import joblib\n",
    "\n",
    "# Save the model using joblib\n",
    "filename = 'finalized_model.sav'\n",
    "joblib.dump(lrModel, filename)\n",
    "\n",
    "# Load the model\n",
    "loaded_model = joblib.load(filename)\n",
    "result = loaded_model.predict(pred_feature)\n",
    "print(result)"
   ]
  },
  {
   "cell_type": "code",
   "execution_count": 12,
   "id": "5e9fcd47",
   "metadata": {
    "execution": {
     "iopub.execute_input": "2023-05-28T09:29:56.123049Z",
     "iopub.status.busy": "2023-05-28T09:29:56.122190Z",
     "iopub.status.idle": "2023-05-28T09:29:56.131669Z",
     "shell.execute_reply": "2023-05-28T09:29:56.130474Z"
    },
    "papermill": {
     "duration": 0.020727,
     "end_time": "2023-05-28T09:29:56.133631",
     "exception": false,
     "start_time": "2023-05-28T09:29:56.112904",
     "status": "completed"
    },
    "tags": []
   },
   "outputs": [
    {
     "name": "stdout",
     "output_type": "stream",
     "text": [
      "[0 1 0 0 1 0 1 0 1 0 0 0 1 0 1 1 0 0 1 1 0 0 1 0 1 0 1 0 0 0 0 0 1 1 0 0 1\n",
      " 1 0 0 0 0 0 1 1 0 0 0 1 1 0 0 1 1 0 0 0 0 0 1 0 0 0 1 0 1 1 0 0 1 1 0 1 0\n",
      " 1 0 0 1 0 1 0 0 0 0 0 0 1 1 1 0 1 0 1 0 0 0 1 0 1 0 1 0 0 0 1 0 0 0 0 0 0\n",
      " 1 1 1 1 0 0 1 0 1 1 0 1 0 0 1 0 1 0 0 0 0 1 0 0 0 0 0 1 0 1 1 0 0 0 0 0 0\n",
      " 0 0 1 0 0 1 0 0 1 1 0 1 1 0 1 0 0 1 0 0 1 1 0 0 0 0 0 1 1 0 1 1 0 0 1 0 1\n",
      " 0 1 0 1 0 0 0 0 0 0 0 0 1 0 1 1 0 0 1 0 0 1 0 1 0 0 0 0 1 1 0 1 0 1 0 1 0\n",
      " 1 0 1 1 0 1 0 0 0 1 0 0 0 0 0 0 1 1 1 1 0 0 0 0 1 0 1 1 1 0 0 0 0 0 0 0 1\n",
      " 0 0 0 1 1 0 0 0 0 1 0 0 0 1 1 0 1 0 0 0 0 1 0 1 1 1 0 0 0 0 0 0 1 0 0 0 0\n",
      " 1 0 0 0 0 0 0 0 1 1 0 0 0 1 0 0 0 1 1 1 0 0 0 0 0 0 0 0 1 0 1 0 0 0 1 0 0\n",
      " 1 0 0 0 0 0 0 0 0 0 1 0 1 0 1 0 1 1 0 0 0 1 0 1 0 0 1 0 1 1 0 1 1 0 1 1 0\n",
      " 0 1 0 0 1 1 1 0 0 0 0 0 1 1 0 1 0 0 0 0 0 1 0 0 0 1 0 1 0 0 1 0 1 0 0 0 0\n",
      " 0 1 1 1 1 1 0 1 0 0 0]\n"
     ]
    }
   ],
   "source": [
    "import pickle\n",
    "\n",
    "# Save the model using pickle\n",
    "filename = 'finalized_model.sav'\n",
    "pickle.dump(lrModel, open(filename, 'wb'))\n",
    "\n",
    "# Load the model\n",
    "loaded_model = pickle.load(open(filename, 'rb'))\n",
    "result = loaded_model.predict(pred_feature)\n",
    "print(result)"
   ]
  },
  {
   "cell_type": "markdown",
   "id": "3d98daf1",
   "metadata": {
    "papermill": {
     "duration": 0.008092,
     "end_time": "2023-05-28T09:29:56.150444",
     "exception": false,
     "start_time": "2023-05-28T09:29:56.142352",
     "status": "completed"
    },
    "tags": []
   },
   "source": [
    "pickle have maintainence and security issue(don't load pickle from untrusted source).  ..."
   ]
  },
  {
   "cell_type": "markdown",
   "id": "a678e88e",
   "metadata": {
    "papermill": {
     "duration": 0.008395,
     "end_time": "2023-05-28T09:29:56.167200",
     "exception": false,
     "start_time": "2023-05-28T09:29:56.158805",
     "status": "completed"
    },
    "tags": []
   },
   "source": [
    "# Different models"
   ]
  },
  {
   "cell_type": "code",
   "execution_count": 13,
   "id": "693a43c5",
   "metadata": {
    "execution": {
     "iopub.execute_input": "2023-05-28T09:29:56.185498Z",
     "iopub.status.busy": "2023-05-28T09:29:56.184748Z",
     "iopub.status.idle": "2023-05-28T09:29:56.190855Z",
     "shell.execute_reply": "2023-05-28T09:29:56.190004Z"
    },
    "papermill": {
     "duration": 0.017315,
     "end_time": "2023-05-28T09:29:56.192913",
     "exception": false,
     "start_time": "2023-05-28T09:29:56.175598",
     "status": "completed"
    },
    "tags": []
   },
   "outputs": [],
   "source": [
    "from sklearn.model_selection import train_test_split\n",
    "\n",
    "X = train_feature\n",
    "y = train_value\n",
    "\n",
    "X_train, X_test, y_train, y_test = train_test_split(X, y, test_size=0.2, random_state=2)"
   ]
  },
  {
   "cell_type": "markdown",
   "id": "72902af0",
   "metadata": {
    "papermill": {
     "duration": 0.008452,
     "end_time": "2023-05-28T09:29:56.210413",
     "exception": false,
     "start_time": "2023-05-28T09:29:56.201961",
     "status": "completed"
    },
    "tags": []
   },
   "source": [
    "# LogisticRegression"
   ]
  },
  {
   "cell_type": "code",
   "execution_count": 14,
   "id": "186d7e1e",
   "metadata": {
    "execution": {
     "iopub.execute_input": "2023-05-28T09:29:56.229093Z",
     "iopub.status.busy": "2023-05-28T09:29:56.228333Z",
     "iopub.status.idle": "2023-05-28T09:29:56.243281Z",
     "shell.execute_reply": "2023-05-28T09:29:56.242374Z"
    },
    "papermill": {
     "duration": 0.025944,
     "end_time": "2023-05-28T09:29:56.245142",
     "exception": false,
     "start_time": "2023-05-28T09:29:56.219198",
     "status": "completed"
    },
    "tags": []
   },
   "outputs": [
    {
     "data": {
      "text/html": [
       "<style>#sk-container-id-2 {color: black;background-color: white;}#sk-container-id-2 pre{padding: 0;}#sk-container-id-2 div.sk-toggleable {background-color: white;}#sk-container-id-2 label.sk-toggleable__label {cursor: pointer;display: block;width: 100%;margin-bottom: 0;padding: 0.3em;box-sizing: border-box;text-align: center;}#sk-container-id-2 label.sk-toggleable__label-arrow:before {content: \"▸\";float: left;margin-right: 0.25em;color: #696969;}#sk-container-id-2 label.sk-toggleable__label-arrow:hover:before {color: black;}#sk-container-id-2 div.sk-estimator:hover label.sk-toggleable__label-arrow:before {color: black;}#sk-container-id-2 div.sk-toggleable__content {max-height: 0;max-width: 0;overflow: hidden;text-align: left;background-color: #f0f8ff;}#sk-container-id-2 div.sk-toggleable__content pre {margin: 0.2em;color: black;border-radius: 0.25em;background-color: #f0f8ff;}#sk-container-id-2 input.sk-toggleable__control:checked~div.sk-toggleable__content {max-height: 200px;max-width: 100%;overflow: auto;}#sk-container-id-2 input.sk-toggleable__control:checked~label.sk-toggleable__label-arrow:before {content: \"▾\";}#sk-container-id-2 div.sk-estimator input.sk-toggleable__control:checked~label.sk-toggleable__label {background-color: #d4ebff;}#sk-container-id-2 div.sk-label input.sk-toggleable__control:checked~label.sk-toggleable__label {background-color: #d4ebff;}#sk-container-id-2 input.sk-hidden--visually {border: 0;clip: rect(1px 1px 1px 1px);clip: rect(1px, 1px, 1px, 1px);height: 1px;margin: -1px;overflow: hidden;padding: 0;position: absolute;width: 1px;}#sk-container-id-2 div.sk-estimator {font-family: monospace;background-color: #f0f8ff;border: 1px dotted black;border-radius: 0.25em;box-sizing: border-box;margin-bottom: 0.5em;}#sk-container-id-2 div.sk-estimator:hover {background-color: #d4ebff;}#sk-container-id-2 div.sk-parallel-item::after {content: \"\";width: 100%;border-bottom: 1px solid gray;flex-grow: 1;}#sk-container-id-2 div.sk-label:hover label.sk-toggleable__label {background-color: #d4ebff;}#sk-container-id-2 div.sk-serial::before {content: \"\";position: absolute;border-left: 1px solid gray;box-sizing: border-box;top: 0;bottom: 0;left: 50%;z-index: 0;}#sk-container-id-2 div.sk-serial {display: flex;flex-direction: column;align-items: center;background-color: white;padding-right: 0.2em;padding-left: 0.2em;position: relative;}#sk-container-id-2 div.sk-item {position: relative;z-index: 1;}#sk-container-id-2 div.sk-parallel {display: flex;align-items: stretch;justify-content: center;background-color: white;position: relative;}#sk-container-id-2 div.sk-item::before, #sk-container-id-2 div.sk-parallel-item::before {content: \"\";position: absolute;border-left: 1px solid gray;box-sizing: border-box;top: 0;bottom: 0;left: 50%;z-index: -1;}#sk-container-id-2 div.sk-parallel-item {display: flex;flex-direction: column;z-index: 1;position: relative;background-color: white;}#sk-container-id-2 div.sk-parallel-item:first-child::after {align-self: flex-end;width: 50%;}#sk-container-id-2 div.sk-parallel-item:last-child::after {align-self: flex-start;width: 50%;}#sk-container-id-2 div.sk-parallel-item:only-child::after {width: 0;}#sk-container-id-2 div.sk-dashed-wrapped {border: 1px dashed gray;margin: 0 0.4em 0.5em 0.4em;box-sizing: border-box;padding-bottom: 0.4em;background-color: white;}#sk-container-id-2 div.sk-label label {font-family: monospace;font-weight: bold;display: inline-block;line-height: 1.2em;}#sk-container-id-2 div.sk-label-container {text-align: center;}#sk-container-id-2 div.sk-container {/* jupyter's `normalize.less` sets `[hidden] { display: none; }` but bootstrap.min.css set `[hidden] { display: none !important; }` so we also need the `!important` here to be able to override the default hidden behavior on the sphinx rendered scikit-learn.org. See: https://github.com/scikit-learn/scikit-learn/issues/21755 */display: inline-block !important;position: relative;}#sk-container-id-2 div.sk-text-repr-fallback {display: none;}</style><div id=\"sk-container-id-2\" class=\"sk-top-container\"><div class=\"sk-text-repr-fallback\"><pre>LogisticRegression()</pre><b>In a Jupyter environment, please rerun this cell to show the HTML representation or trust the notebook. <br />On GitHub, the HTML representation is unable to render, please try loading this page with nbviewer.org.</b></div><div class=\"sk-container\" hidden><div class=\"sk-item\"><div class=\"sk-estimator sk-toggleable\"><input class=\"sk-toggleable__control sk-hidden--visually\" id=\"sk-estimator-id-2\" type=\"checkbox\" checked><label for=\"sk-estimator-id-2\" class=\"sk-toggleable__label sk-toggleable__label-arrow\">LogisticRegression</label><div class=\"sk-toggleable__content\"><pre>LogisticRegression()</pre></div></div></div></div></div>"
      ],
      "text/plain": [
       "LogisticRegression()"
      ]
     },
     "execution_count": 14,
     "metadata": {},
     "output_type": "execute_result"
    }
   ],
   "source": [
    "from sklearn.linear_model import LogisticRegression\n",
    "\n",
    "lrModel=LogisticRegression()\n",
    "lrModel.fit(X_train,y_train)"
   ]
  },
  {
   "cell_type": "code",
   "execution_count": 15,
   "id": "2c4b26e8",
   "metadata": {
    "execution": {
     "iopub.execute_input": "2023-05-28T09:29:56.263483Z",
     "iopub.status.busy": "2023-05-28T09:29:56.262793Z",
     "iopub.status.idle": "2023-05-28T09:29:56.268216Z",
     "shell.execute_reply": "2023-05-28T09:29:56.267391Z"
    },
    "papermill": {
     "duration": 0.016449,
     "end_time": "2023-05-28T09:29:56.270028",
     "exception": false,
     "start_time": "2023-05-28T09:29:56.253579",
     "status": "completed"
    },
    "tags": []
   },
   "outputs": [],
   "source": [
    "y_pred = lrModel.predict(X_test)"
   ]
  },
  {
   "cell_type": "code",
   "execution_count": 16,
   "id": "70976c63",
   "metadata": {
    "execution": {
     "iopub.execute_input": "2023-05-28T09:29:56.288316Z",
     "iopub.status.busy": "2023-05-28T09:29:56.287568Z",
     "iopub.status.idle": "2023-05-28T09:29:56.293515Z",
     "shell.execute_reply": "2023-05-28T09:29:56.292219Z"
    },
    "papermill": {
     "duration": 0.017091,
     "end_time": "2023-05-28T09:29:56.295514",
     "exception": false,
     "start_time": "2023-05-28T09:29:56.278423",
     "status": "completed"
    },
    "tags": []
   },
   "outputs": [
    {
     "name": "stdout",
     "output_type": "stream",
     "text": [
      "cofficients : [[ 2.45625856 -0.00940567]]\n",
      "intercept : [-1.25197023]\n"
     ]
    }
   ],
   "source": [
    "coefficients = lrModel.coef_\n",
    "intercept = lrModel.intercept_\n",
    "\n",
    "print(\"cofficients :\",coefficients)\n",
    "print(\"intercept :\",intercept)"
   ]
  },
  {
   "cell_type": "markdown",
   "id": "0805ca39",
   "metadata": {
    "papermill": {
     "duration": 0.008318,
     "end_time": "2023-05-28T09:29:56.313069",
     "exception": false,
     "start_time": "2023-05-28T09:29:56.304751",
     "status": "completed"
    },
    "tags": []
   },
   "source": [
    "## Performance metric\n",
    "\n",
    "#### 1. Confusion Matrix\n",
    "- Each row: actual class\n",
    "- Each column: predicted class\n",
    "\n",
    "First row: Non-clicked Ads, the negative class:\n",
    "* 143 were correctly classified as Non-clicked Ads. **True negatives**. \n",
    "* Remaining 6 were wrongly classified as clicked Ads. **False positive**\n",
    "\n",
    "\n",
    "Second row: The clicked Ads, the positive class:\n",
    "* 3 were incorrectly classified as Non-clicked Ads. **False negatives**\n",
    "* 146 were correctly classified clicked Ads. **True positives**\n",
    "\n",
    "#### 2. Precision\n",
    "\n",
    "**Precision** measures the accuracy of positive predictions. \n",
    "\n",
    "$$\\textrm{precision} = \\frac{\\textrm{True Positives}}{\\textrm{True Positives} + \\textrm{False Positives}}$$\n",
    "\n",
    "#### 3. Recall\n",
    "\n",
    "`Precision` is typically used with `recall` (`Sensitivity` or `True Positive Rate`). The ratio of positive instances that are correctly detected by the classifier.\n",
    "\n",
    "$$\\textrm{recall} = \\frac{\\textrm{True Positives}}{\\textrm{True Positives} + \\textrm{False Negatives}}$$\n",
    "\n",
    "#### 4. F1 Score\n",
    "\n",
    "$F_1$ score is the harmonic mean of precision and recall. Regular mean gives equal weight to all values. Harmonic mean gives more weight to low values.\n",
    "\n",
    "\n",
    "$$F_1=\\frac{2}{\\frac{1}{\\textrm{precision}}+\\frac{1}{\\textrm{recall}}}=2\\times \\frac{\\textrm{precision}\\times \\textrm{recall}}{\\textrm{precision}+ \\textrm{recall}}=\\frac{TP}{TP+\\frac{FN+FP}{2}}$$ \n",
    "\n",
    "The $F_1$ score favours classifiers that have similar precision and recall.\n",
    "\n",
    "#### 5. Precision / Recall Tradeoff\n",
    "\n",
    "Increasing precision reduced recall and vice versa"
   ]
  },
  {
   "cell_type": "code",
   "execution_count": 17,
   "id": "69a627be",
   "metadata": {
    "execution": {
     "iopub.execute_input": "2023-05-28T09:29:56.332290Z",
     "iopub.status.busy": "2023-05-28T09:29:56.331792Z",
     "iopub.status.idle": "2023-05-28T09:29:56.672124Z",
     "shell.execute_reply": "2023-05-28T09:29:56.671200Z"
    },
    "papermill": {
     "duration": 0.352679,
     "end_time": "2023-05-28T09:29:56.674323",
     "exception": false,
     "start_time": "2023-05-28T09:29:56.321644",
     "status": "completed"
    },
    "tags": []
   },
   "outputs": [
    {
     "name": "stdout",
     "output_type": "stream",
     "text": [
      "Confusion Matrix \n",
      " [[88 12]\n",
      " [30 49]]\n"
     ]
    },
    {
     "data": {
      "text/plain": [
       "<sklearn.metrics._plot.confusion_matrix.ConfusionMatrixDisplay at 0x7dd5200f39d0>"
      ]
     },
     "execution_count": 17,
     "metadata": {},
     "output_type": "execute_result"
    },
    {
     "data": {
      "image/png": "[encoded data removed]",
      "text/plain": [
       "<Figure size 640x480 with 2 Axes>"
      ]
     },
     "metadata": {},
     "output_type": "display_data"
    }
   ],
   "source": [
    "# Confusion matrix display\n",
    "\n",
    "from sklearn.metrics import accuracy_score, precision_score, recall_score, f1_score, confusion_matrix, roc_auc_score\n",
    "cm = confusion_matrix(y_test,y_pred)\n",
    "print(\"Confusion Matrix \\n\",cm)\n",
    "\n",
    "from sklearn.metrics import ConfusionMatrixDisplay\n",
    "disp = ConfusionMatrixDisplay(confusion_matrix=cm)\n",
    "disp.plot()"
   ]
  },
  {
   "cell_type": "code",
   "execution_count": 18,
   "id": "30cbf287",
   "metadata": {
    "execution": {
     "iopub.execute_input": "2023-05-28T09:29:56.694882Z",
     "iopub.status.busy": "2023-05-28T09:29:56.694583Z",
     "iopub.status.idle": "2023-05-28T09:29:56.717778Z",
     "shell.execute_reply": "2023-05-28T09:29:56.716620Z"
    },
    "papermill": {
     "duration": 0.036006,
     "end_time": "2023-05-28T09:29:56.720016",
     "exception": false,
     "start_time": "2023-05-28T09:29:56.684010",
     "status": "completed"
    },
    "tags": []
   },
   "outputs": [
    {
     "name": "stdout",
     "output_type": "stream",
     "text": [
      "accuracy is 0.765\n",
      "precision is 0.803\n",
      "recall is 0.620\n",
      "f1_score is 0.700\n",
      "roc_auc_score is 0.750\n"
     ]
    }
   ],
   "source": [
    "accuracy_score, precision_score, recall_score, f1_score, roc_auc_score\n",
    "print(\"accuracy is %2.3f\" % accuracy_score(y_test, y_pred))\n",
    "print(\"precision is %2.3f\" % precision_score(y_test, y_pred))\n",
    "print(\"recall is %2.3f\" % recall_score(y_test, y_pred))\n",
    "print(\"f1_score is %2.3f\" % f1_score(y_test, y_pred))\n",
    "print(\"roc_auc_score is %2.3f\" % roc_auc_score(y_test, y_pred))"
   ]
  },
  {
   "cell_type": "code",
   "execution_count": 19,
   "id": "0a894c99",
   "metadata": {
    "execution": {
     "iopub.execute_input": "2023-05-28T09:29:56.741440Z",
     "iopub.status.busy": "2023-05-28T09:29:56.741125Z",
     "iopub.status.idle": "2023-05-28T09:29:56.997953Z",
     "shell.execute_reply": "2023-05-28T09:29:56.997076Z"
    },
    "papermill": {
     "duration": 0.269555,
     "end_time": "2023-05-28T09:29:57.000135",
     "exception": false,
     "start_time": "2023-05-28T09:29:56.730580",
     "status": "completed"
    },
    "tags": []
   },
   "outputs": [
    {
     "data": {
      "image/png": "[encoded data removed]",
      "text/plain": [
       "<Figure size 640x480 with 1 Axes>"
      ]
     },
     "metadata": {},
     "output_type": "display_data"
    }
   ],
   "source": [
    "# roc_curve\n",
    "\n",
    "from sklearn.metrics import roc_curve\n",
    "from sklearn.metrics import RocCurveDisplay\n",
    "\n",
    "\n",
    "fpr, tpr, thresholds = roc_curve(y_test, y_pred)\n",
    "roc_display = RocCurveDisplay(fpr=fpr, tpr=tpr).plot()"
   ]
  },
  {
   "cell_type": "code",
   "execution_count": 20,
   "id": "e0f7a18c",
   "metadata": {
    "execution": {
     "iopub.execute_input": "2023-05-28T09:29:57.020897Z",
     "iopub.status.busy": "2023-05-28T09:29:57.020623Z",
     "iopub.status.idle": "2023-05-28T09:29:57.280271Z",
     "shell.execute_reply": "2023-05-28T09:29:57.279023Z"
    },
    "papermill": {
     "duration": 0.272522,
     "end_time": "2023-05-28T09:29:57.282495",
     "exception": false,
     "start_time": "2023-05-28T09:29:57.009973",
     "status": "completed"
    },
    "tags": []
   },
   "outputs": [
    {
     "data": {
      "image/png": "[encoded data removed]",
      "text/plain": [
       "<Figure size 640x480 with 1 Axes>"
      ]
     },
     "metadata": {},
     "output_type": "display_data"
    }
   ],
   "source": [
    "# precision_recall_curve\n",
    "\n",
    "from sklearn.metrics import precision_recall_curve\n",
    "from sklearn.metrics import PrecisionRecallDisplay\n",
    "\n",
    "prec, recall, _ = precision_recall_curve(y_test, y_pred)\n",
    "pr_display = PrecisionRecallDisplay(precision=prec, recall=recall).plot()"
   ]
  },
  {
   "cell_type": "code",
   "execution_count": 21,
   "id": "151228ad",
   "metadata": {
    "execution": {
     "iopub.execute_input": "2023-05-28T09:29:57.305819Z",
     "iopub.status.busy": "2023-05-28T09:29:57.304272Z",
     "iopub.status.idle": "2023-05-28T09:29:57.803202Z",
     "shell.execute_reply": "2023-05-28T09:29:57.802215Z"
    },
    "papermill": {
     "duration": 0.511784,
     "end_time": "2023-05-28T09:29:57.805205",
     "exception": false,
     "start_time": "2023-05-28T09:29:57.293421",
     "status": "completed"
    },
    "tags": []
   },
   "outputs": [
    {
     "data": {
      "image/png": "[encoded data removed]",
      "text/plain": [
       "<Figure size 900x300 with 4 Axes>"
      ]
     },
     "metadata": {},
     "output_type": "display_data"
    }
   ],
   "source": [
    "import matplotlib.pyplot as plt\n",
    "\n",
    "fig, (ax1, ax2, ax3) = plt.subplots(1, 3, figsize=(9, 3))\n",
    "\n",
    "roc_display.plot(ax=ax1)\n",
    "pr_display.plot(ax=ax2)\n",
    "disp.plot(ax=ax3)\n",
    "plt.show()"
   ]
  },
  {
   "cell_type": "markdown",
   "id": "235edc32",
   "metadata": {
    "papermill": {
     "duration": 0.01016,
     "end_time": "2023-05-28T09:29:57.826165",
     "exception": false,
     "start_time": "2023-05-28T09:29:57.816005",
     "status": "completed"
    },
    "tags": []
   },
   "source": [
    "Support Vector Machines   \n",
    "KNeighborsClassifier   \n",
    "Gaussian Naive Bayes   \n",
    "Perceptron  \n",
    "Linear SVC   \n",
    "Stochastic Gradient Descent   \n",
    "Decision Tree   \n",
    "Random Forest   \n",
    "AdaBoostClassifier   \n",
    "LinearDiscriminantAnalysis  \n",
    "QuadraticDiscriminantAnalysis  "
   ]
  },
  {
   "cell_type": "markdown",
   "id": "6befda25",
   "metadata": {
    "papermill": {
     "duration": 0.010483,
     "end_time": "2023-05-28T09:29:57.846835",
     "exception": false,
     "start_time": "2023-05-28T09:29:57.836352",
     "status": "completed"
    },
    "tags": []
   },
   "source": [
    "https://www.kaggle.com/code/startupsci/titanic-data-science-solutions?kernelSessionId=10431564"
   ]
  },
  {
   "cell_type": "markdown",
   "id": "ef64402c",
   "metadata": {
    "papermill": {
     "duration": 0.009934,
     "end_time": "2023-05-28T09:29:57.867074",
     "exception": false,
     "start_time": "2023-05-28T09:29:57.857140",
     "status": "completed"
    },
    "tags": []
   },
   "source": [
    "https://www.kaggle.com/code/sinakhorami/titanic-best-working-classifier?kernelSessionId=560373"
   ]
  }
 ],
 "metadata": {
  "kernelspec": {
   "display_name": "Python 3",
   "language": "python",
   "name": "python3"
  },
  "language_info": {
   "codemirror_mode": {
    "name": "ipython",
    "version": 3
   },
   "file_extension": ".py",
   "mimetype": "text/x-python",
   "name": "python",
   "nbconvert_exporter": "python",
   "pygments_lexer": "ipython3",
   "version": "3.10.10"
  },
  "papermill": {
   "default_parameters": {},
   "duration": 20.18679,
   "end_time": "2023-05-28T09:29:58.597888",
   "environment_variables": {},
   "exception": null,
   "input_path": "__notebook__.ipynb",
   "output_path": "__notebook__.ipynb",
   "parameters": {},
   "start_time": "2023-05-28T09:29:38.411098",
   "version": "2.4.0"
  }
 },
 "nbformat": 4,
 "nbformat_minor": 5
}
